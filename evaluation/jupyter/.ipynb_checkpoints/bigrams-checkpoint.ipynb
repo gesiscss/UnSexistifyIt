{
 "cells": [
  {
   "cell_type": "code",
   "execution_count": 1,
   "metadata": {},
   "outputs": [],
   "source": [
    "import json\n",
    "\n",
    "with open('../json_files/sentences_mturk.json') as json_file:\n",
    "    data = json.load(json_file)"
   ]
  },
  {
   "cell_type": "code",
   "execution_count": 2,
   "metadata": {
    "scrolled": false
   },
   "outputs": [
    {
     "name": "stderr",
     "output_type": "stream",
     "text": [
      "[nltk_data] Downloading package punkt to /Users/Ali/nltk_data...\n",
      "[nltk_data]   Package punkt is already up-to-date!\n"
     ]
    }
   ],
   "source": [
    "import nltk\n",
    "nltk.download('punkt')\n",
    "\n",
    "def make_bigrams(str):\n",
    "    tokens = nltk.word_tokenize(str)\n",
    "    pos_tag = nltk.pos_tag(tokens)\n",
    "    pos = [i[1] for i in pos_tag]\n",
    "    return list(nltk.bigrams(pos))\n",
    "\n",
    "def get_diff(lst1, lst2):\n",
    "    return tuple(set(lst1) - set(lst2))\n"
   ]
  },
  {
   "cell_type": "code",
   "execution_count": 3,
   "metadata": {
    "scrolled": false
   },
   "outputs": [
    {
     "ename": "AttributeError",
     "evalue": "'list' object has no attribute 'values'",
     "output_type": "error",
     "traceback": [
      "\u001b[0;31m---------------------------------------------------------------------------\u001b[0m",
      "\u001b[0;31mAttributeError\u001b[0m                            Traceback (most recent call last)",
      "\u001b[0;32m<ipython-input-3-f147addbda82>\u001b[0m in \u001b[0;36m<module>\u001b[0;34m\u001b[0m\n\u001b[1;32m      1\u001b[0m \u001b[0mbigrams_list\u001b[0m \u001b[0;34m=\u001b[0m \u001b[0;34m[\u001b[0m\u001b[0;34m]\u001b[0m\u001b[0;34m\u001b[0m\u001b[0m\n\u001b[0;32m----> 2\u001b[0;31m \u001b[0;32mfor\u001b[0m \u001b[0mvalue\u001b[0m \u001b[0;32min\u001b[0m \u001b[0mdata\u001b[0m\u001b[0;34m.\u001b[0m\u001b[0mvalues\u001b[0m\u001b[0;34m(\u001b[0m\u001b[0;34m)\u001b[0m\u001b[0;34m:\u001b[0m\u001b[0;34m\u001b[0m\u001b[0m\n\u001b[0m\u001b[1;32m      3\u001b[0m     \u001b[0;32mfor\u001b[0m \u001b[0mitem\u001b[0m \u001b[0;32min\u001b[0m \u001b[0mvalue\u001b[0m\u001b[0;34m:\u001b[0m\u001b[0;34m\u001b[0m\u001b[0m\n\u001b[1;32m      4\u001b[0m         \u001b[0mitem\u001b[0m\u001b[0;34m[\u001b[0m\u001b[0;34m'bigrams'\u001b[0m\u001b[0;34m]\u001b[0m \u001b[0;34m=\u001b[0m \u001b[0mget_diff\u001b[0m\u001b[0;34m(\u001b[0m\u001b[0mmake_bigrams\u001b[0m\u001b[0;34m(\u001b[0m\u001b[0mitem\u001b[0m\u001b[0;34m[\u001b[0m\u001b[0;34m'description'\u001b[0m\u001b[0;34m]\u001b[0m\u001b[0;34m)\u001b[0m\u001b[0;34m,\u001b[0m \u001b[0mmake_bigrams\u001b[0m\u001b[0;34m(\u001b[0m\u001b[0mitem\u001b[0m\u001b[0;34m[\u001b[0m\u001b[0;34m'comment'\u001b[0m\u001b[0;34m]\u001b[0m\u001b[0;34m)\u001b[0m\u001b[0;34m)\u001b[0m\u001b[0;34m\u001b[0m\u001b[0m\n\u001b[1;32m      5\u001b[0m         \u001b[0mbigrams_list\u001b[0m\u001b[0;34m.\u001b[0m\u001b[0mappend\u001b[0m\u001b[0;34m(\u001b[0m\u001b[0mget_diff\u001b[0m\u001b[0;34m(\u001b[0m\u001b[0mmake_bigrams\u001b[0m\u001b[0;34m(\u001b[0m\u001b[0mitem\u001b[0m\u001b[0;34m[\u001b[0m\u001b[0;34m'description'\u001b[0m\u001b[0;34m]\u001b[0m\u001b[0;34m)\u001b[0m\u001b[0;34m,\u001b[0m \u001b[0mmake_bigrams\u001b[0m\u001b[0;34m(\u001b[0m\u001b[0mitem\u001b[0m\u001b[0;34m[\u001b[0m\u001b[0;34m'comment'\u001b[0m\u001b[0;34m]\u001b[0m\u001b[0;34m)\u001b[0m\u001b[0;34m)\u001b[0m\u001b[0;34m)\u001b[0m\u001b[0;34m\u001b[0m\u001b[0m\n",
      "\u001b[0;31mAttributeError\u001b[0m: 'list' object has no attribute 'values'"
     ]
    }
   ],
   "source": [
    "bigrams_list = []\n",
    "for value in data.values():\n",
    "    for item in value:\n",
    "        item['bigrams'] = get_diff(make_bigrams(item['description']), make_bigrams(item['comment']))\n",
    "        bigrams_list.append(get_diff(make_bigrams(item['description']), make_bigrams(item['comment'])))\n",
    "\n",
    "data"
   ]
  },
  {
   "cell_type": "code",
   "execution_count": 7,
   "metadata": {},
   "outputs": [
    {
     "data": {
      "text/plain": [
       "{(): 5,\n",
       " (('EX', 'VBP'),\n",
       "  ('VBP', 'JJ'),\n",
       "  ('MD', 'VB'),\n",
       "  ('IN', 'WDT'),\n",
       "  ('WDT', 'NNS'),\n",
       "  ('JJ', 'NNS')): 1,\n",
       " (('IN', 'NNS'),): 1,\n",
       " (('JJR', 'IN'), ('NNS', '.'), ('VBZ', 'JJR'), ('IN', 'NN')): 1,\n",
       " (('JJR', 'IN'), ('RBR', 'IN'), ('CC', 'JJR'), ('VB', 'RBR')): 1,\n",
       " (('JJR', 'IN'),\n",
       "  ('RBR', 'IN'),\n",
       "  ('VB', 'RBR'),\n",
       "  ('CC', 'JJR'),\n",
       "  ('IN', 'VBG')): 1,\n",
       " (('JJR', 'IN'), ('VBG', 'JJ'), ('CC', 'JJR'), ('IN', 'VBG')): 1,\n",
       " (('JJR', 'IN'), ('VBZ', 'JJR')): 1,\n",
       " (('JJR', 'NN'), ('MD', 'VB'), ('NN', 'MD'), ('DT', 'NN'), ('VB', 'JJR')): 1,\n",
       " (('JJR', 'NN'), ('VB', 'JJR')): 2,\n",
       " (('MD', 'VB'),): 5,\n",
       " (('MD', 'VB'),\n",
       "  ('RB', 'IN'),\n",
       "  ('VBG', 'RB'),\n",
       "  ('NN', 'VBG'),\n",
       "  ('IN', 'IN'),\n",
       "  ('IN', 'NNS')): 1,\n",
       " (('MD', 'VB'), ('VBG', 'RB'), ('NN', 'VBG'), ('IN', 'IN')): 1,\n",
       " (('NN', 'MD'),): 1,\n",
       " (('NN', 'NN'), ('DT', 'NN')): 1,\n",
       " (('NNS', 'IN'), ('IN', 'NNS'), ('NNS', '.'), ('NN', 'IN')): 1,\n",
       " (('RB', 'DT'), ('NN', 'NN'), ('VB', 'RB')): 1,\n",
       " (('RB', 'IN'),): 1,\n",
       " (('RB', 'VB'), ('CC', 'TO'), ('VB', 'RB'), ('MD', 'RB')): 1,\n",
       " (('RB', 'VB'), ('MD', 'RB')): 1,\n",
       " (('RBR', 'JJ'), ('NN', '.'), ('VBP', 'RBR'), ('IN', 'IN')): 1,\n",
       " (('RBR', 'JJ'),\n",
       "  ('NN', 'IN'),\n",
       "  ('JJ', 'TO'),\n",
       "  ('VBN', 'RBR'),\n",
       "  ('IN', 'NNS'),\n",
       "  ('NNS', '.')): 1,\n",
       " (('RBR', 'JJ'), ('VBN', 'RBR'), ('JJ', 'TO')): 1,\n",
       " (('RBR', 'JJ'), ('VBP', 'RBR')): 2,\n",
       " (('RBR', 'JJ'), ('VBP', 'RBR'), ('NN', 'IN'), ('IN', 'IN')): 1,\n",
       " (('VB', 'VBN'), ('NNS', 'MD'), ('MD', 'VB')): 1,\n",
       " (('VBZ', 'JJR'),): 1}"
      ]
     },
     "execution_count": 7,
     "metadata": {},
     "output_type": "execute_result"
    }
   ],
   "source": [
    "import numpy as np\n",
    "\n",
    "unique_elements, counts_elements = np.unique(bigrams_list, return_counts=True)\n",
    "unique_bigrams_sequence = tuple(unique_elements)\n",
    "unique_bigrams_counts = tuple(counts_elements)\n",
    "\n",
    "bigrams_dict = dict(zip(unique_bigrams_sequence, unique_bigrams_counts))\n",
    "bigrams_dict"
   ]
  }
 ],
 "metadata": {
  "kernelspec": {
   "display_name": "Python 3",
   "language": "python",
   "name": "python3"
  },
  "language_info": {
   "codemirror_mode": {
    "name": "ipython",
    "version": 3
   },
   "file_extension": ".py",
   "mimetype": "text/x-python",
   "name": "python",
   "nbconvert_exporter": "python",
   "pygments_lexer": "ipython3",
   "version": "3.7.0"
  }
 },
 "nbformat": 4,
 "nbformat_minor": 2
}
