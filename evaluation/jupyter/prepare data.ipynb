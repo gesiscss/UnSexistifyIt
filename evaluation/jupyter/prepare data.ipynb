{
 "cells": [
  {
   "cell_type": "code",
   "execution_count": 1,
   "metadata": {},
   "outputs": [],
   "source": [
    "import json\n",
    "\n",
    "# Read json data\n",
    "with open('../json_files/sentences_mturk.json') as json_file:\n",
    "    data = json.load(json_file)"
   ]
  },
  {
   "cell_type": "code",
   "execution_count": 2,
   "metadata": {},
   "outputs": [],
   "source": [
    "# Create sentences list\n",
    "sentences = []\n",
    "for item in data:\n",
    "    description = item[0] \n",
    "    comments = item[1:]\n",
    "    for i in range(len(comments)):\n",
    "        sentences.append(dict(zip([\"description\", \"comment\"], [description, comments[i]])))\n",
    "\n",
    "\n",
    "# Create final dictionary\n",
    "my_dict = {}\n",
    "my_dict[\"sentences\"] = sentences"
   ]
  },
  {
   "cell_type": "code",
   "execution_count": 3,
   "metadata": {},
   "outputs": [],
   "source": [
    "# Write prepared json file\n",
    "with open(\"../json_files/prepared_mturk_sentences.json\", \"w\") as output:\n",
    "    json.dump(my_dict, output)"
   ]
  }
 ],
 "metadata": {
  "kernelspec": {
   "display_name": "Python 3",
   "language": "python",
   "name": "python3"
  },
  "language_info": {
   "codemirror_mode": {
    "name": "ipython",
    "version": 3
   },
   "file_extension": ".py",
   "mimetype": "text/x-python",
   "name": "python",
   "nbconvert_exporter": "python",
   "pygments_lexer": "ipython3",
   "version": "3.7.0"
  }
 },
 "nbformat": 4,
 "nbformat_minor": 2
}
